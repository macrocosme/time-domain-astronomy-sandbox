{
 "cells": [
  {
   "cell_type": "code",
   "execution_count": null,
   "metadata": {},
   "outputs": [],
   "source": [
    "# %matplotlib notebook\n",
    "%matplotlib inline\n",
    "%config InlineBackend.figure_format='retina'"
   ]
  },
  {
   "cell_type": "code",
   "execution_count": null,
   "metadata": {},
   "outputs": [],
   "source": [
    "from time_domain_astronomy_sandbox.backend import Backend\n",
    "from time_domain_astronomy_sandbox.observation import Observation\n",
    "from time_domain_astronomy_sandbox.pulse import Pulse\n",
    "from time_domain_astronomy_sandbox.plotting import plot_multi_images\n",
    "\n",
    "import numpy as np\n",
    "from matplotlib import rc"
   ]
  },
  {
   "cell_type": "markdown",
   "metadata": {},
   "source": [
    "# Dispersed pulse covering all of ARTS band"
   ]
  },
  {
   "cell_type": "code",
   "execution_count": null,
   "metadata": {},
   "outputs": [],
   "source": [
    "def interactive_pulse_arts():\n",
    "    \"\"\"Plot interactive dispersed pulse using ASTRON's ARTS backend.\"\"\"\n",
    "    pulse = Pulse(Backend())\n",
    "    pulse.plot_delay_v_frequency_interactive(xscale='linear')\n",
    "\n",
    "interactive_pulse_arts()"
   ]
  },
  {
   "cell_type": "markdown",
   "metadata": {},
   "source": [
    "# Dispersed pulse from ARTS band to Lofar HBA band"
   ]
  },
  {
   "cell_type": "code",
   "execution_count": null,
   "metadata": {},
   "outputs": [],
   "source": [
    "def interactive_pulse_arts_to_lofar_hba():\n",
    "    \"\"\"Plot interactive dispersed pulse using bands from ARTS to Lofar HBA.\"\"\"\n",
    "    fmin = 120\n",
    "    n_channels = 3000\n",
    "    channel_bandwidth = (Backend().fmax-fmin)/n_channels\n",
    "\n",
    "    pulse = Pulse(\n",
    "        Backend(\n",
    "            fmin=fmin,\n",
    "            n_channels=n_channels,\n",
    "            channel_bandwidth=channel_bandwidth\n",
    "            )\n",
    "        )\n",
    "    pulse.plot_delay_v_frequency_interactive(xscale='linear', dm_init=3000)\n",
    "\n",
    "interactive_pulse_arts_to_lofar_hba()"
   ]
  },
  {
   "cell_type": "markdown",
   "metadata": {},
   "source": [
    "# Add one dispersed pulse, and dedisperse it."
   ]
  },
  {
   "cell_type": "code",
   "execution_count": null,
   "metadata": {
    "scrolled": false
   },
   "outputs": [],
   "source": [
    "def test_one_pulse_dedisperse():\n",
    "    \"\"\"Plot one dispersed pulse, and it's dedispersed self.\"\"\"\n",
    "    obs = Observation(Backend(), length=1.5*1.024)\n",
    "    obs_original = obs.window.copy()\n",
    "    obs.add_dispersed_pulse(dm=1000, width=0.006, pulse_t0=0.16, snr=12, verbose=True)\n",
    "    xstep = 1000\n",
    "    ystep = 500\n",
    "\n",
    "    rc('font', size=12)\n",
    "    rc('axes', titlesize=12)\n",
    "    rc('axes', labelsize=12)\n",
    "\n",
    "    plot_multi_images(\n",
    "        (\n",
    "            obs_original,\n",
    "            obs.window,\n",
    "            obs.dedisperse(dm=1000),\n",
    "        ),\n",
    "        direction='vertical',\n",
    "\n",
    "        xticks=obs.time_indices[::xstep],\n",
    "        xtick_labels=[\"%.2f\" % t for t in obs.times[::xstep]],\n",
    "\n",
    "        yticks=obs.backend.freq_indices[::ystep],\n",
    "        ytick_labels=[\"%.0f\" % f for f in obs.backend.frequencies[::ystep]],\n",
    "\n",
    "        xfig_size = 30,\n",
    "        yfig_size = 10,\n",
    "        spectrum=False,    # experimental viz\n",
    "        \n",
    "        savefig=True,\n",
    "        fig_name='dm_1000_width_0.006s_t0_0.16s_snr_12',\n",
    "        ext='png'\n",
    "    )\n",
    "    \n",
    "    print(obs.window.min(), obs.window.max(), obs.window.mean(), obs.window.std())\n",
    "\n",
    "test_one_pulse_dedisperse()"
   ]
  },
  {
   "cell_type": "markdown",
   "metadata": {},
   "source": [
    "# Add 1 low DM pulse, 1 high DM Dispersed pulses, and RFI \n",
    "## + RFI cleaning"
   ]
  },
  {
   "cell_type": "code",
   "execution_count": null,
   "metadata": {},
   "outputs": [],
   "source": [
    "def pulse_and_rfi__cleaned(spectrum=False):\n",
    "    \"\"\"Plot pulses and rfi, and rfi clean.\n",
    "\n",
    "    Plot DM=1000 Width=6ms S/N=12\n",
    "    Plot DM=1 Width=6ms S/N=50\n",
    "    Plot DM=10 Width=6ms S/N=15\n",
    "    Plot RFI < 32 channels wide\n",
    "\n",
    "    Property\n",
    "    --------\n",
    "    spectrum : bool\n",
    "    \"\"\"\n",
    "    obs = Observation(Backend(), length=1.024)\n",
    "    raw = obs.window.copy()\n",
    "    obs.add_dispersed_pulse(dm=1000, width=0.006, pulse_t0=0.16, snr=12)\n",
    "    obs.add_dispersed_pulse(dm=1, width=0.006, pulse_t0=0.33, snr=18)\n",
    "#     obs.add_dispersed_pulse(dm=10, width=0.006, pulse_t0=0.73, snr=17)\n",
    "\n",
    "    for f1, f2 in [[64, 73], [560, 575], [1220, 1255]]:\n",
    "        obs.add_rfi(\n",
    "            t_start=0.,\n",
    "            t_stop=0.5,\n",
    "            t_step=0.03,\n",
    "            f_start=f1, f_stop=f2,\n",
    "            width=0.01,\n",
    "            snr=20,\n",
    "        )\n",
    "\n",
    "    xstep = 1000\n",
    "    ystep = 500\n",
    "\n",
    "    rc('font', size=12)\n",
    "    rc('axes', titlesize=12)\n",
    "    rc('axes', labelsize=12)\n",
    "\n",
    "    o_window = obs.window.copy()\n",
    "    o_tc = obs.time_cleaning().copy()\n",
    "    o_fc = obs.frequency_cleaning().copy()\n",
    "\n",
    "    plot_multi_images(\n",
    "        (\n",
    "            raw,\n",
    "            o_window,\n",
    "            o_tc,\n",
    "            o_fc,\n",
    "            obs.frequency_cleaning(obs.time_cleaning(), keep_state=True),\n",
    "            obs.frequency_cleaning(obs.time_cleaning(), keep_state=True),\n",
    "            obs.frequency_cleaning(obs.time_cleaning(), keep_state=True),\n",
    "            obs.dedisperse(dm=1000),\n",
    "        ),\n",
    "        direction='vertical',\n",
    "\n",
    "        xticks=obs.time_indices[::xstep],\n",
    "        xtick_labels=[\"%.2f\" % t for t in obs.times[::xstep]],\n",
    "\n",
    "        yticks=obs.backend.freq_indices[::ystep],\n",
    "        ytick_labels=[\"%.0f\" % f for f in obs.backend.frequencies[::ystep]],\n",
    "\n",
    "        xfig_size=50,\n",
    "        yfig_size=20,\n",
    "        spectrum=spectrum,\n",
    "        savefig=True,\n",
    "        fig_name='pulses_rfi_rficlean',\n",
    "        ext='png'\n",
    "    )\n",
    "    \n",
    "pulse_and_rfi__cleaned(spectrum=False)"
   ]
  },
  {
   "cell_type": "code",
   "execution_count": null,
   "metadata": {},
   "outputs": [],
   "source": []
  }
 ],
 "metadata": {
  "kernelspec": {
   "display_name": "Python 3",
   "language": "python",
   "name": "python3"
  },
  "language_info": {
   "codemirror_mode": {
    "name": "ipython",
    "version": 3
   },
   "file_extension": ".py",
   "mimetype": "text/x-python",
   "name": "python",
   "nbconvert_exporter": "python",
   "pygments_lexer": "ipython3",
   "version": "3.7.4"
  }
 },
 "nbformat": 4,
 "nbformat_minor": 2
}
